{
 "cells": [
  {
   "cell_type": "code",
   "execution_count": 2,
   "metadata": {},
   "outputs": [
    {
     "name": "stdout",
     "output_type": "stream",
     "text": [
      "d:\\Laptop_Projects\\LLMEval-1\n"
     ]
    }
   ],
   "source": [
    "%cd d:\\Laptop_Projects\\LLMEval-1"
   ]
  },
  {
   "cell_type": "code",
   "execution_count": 3,
   "metadata": {},
   "outputs": [],
   "source": [
    "from collections import Counter\n",
    "import numpy as np\n",
    "from summac.model_guardrails import NERInaccuracyPenalty\n",
    "import nltk\n",
    "import spacy\n",
    "import json\n",
    "import pandas as pd\n",
    "import string\n",
    "import tfidf_matcher as tm\n",
    "from fuzzywuzzy import fuzz\n",
    "from server.metrics.faithfulness_helper import FaithfulnessHelper,get_quartiles_faithfulness\n",
    "from server.metrics.stylistic import FaithfulnessEvaluator\n",
    "\n",
    "data = json.load(open(r'preprocess\\experiments\\data\\pairwise_evaluation_w_embeddings.json'))"
   ]
  },
  {
   "cell_type": "code",
   "execution_count": 4,
   "metadata": {},
   "outputs": [],
   "source": [
    "def save_json(data, filepath=r'new_data.json'):\n",
    "    with open(filepath, 'w') as fp:\n",
    "        json.dump(data, fp, indent=4)"
   ]
  },
  {
   "cell_type": "markdown",
   "metadata": {},
   "source": [
    "Load data, all class objects and meta data"
   ]
  },
  {
   "cell_type": "code",
   "execution_count": 14,
   "metadata": {},
   "outputs": [],
   "source": [
    "data = json.load(open(r'D:\\Laptop_Projects\\LLMEval-1\\preprocess\\experiments\\data\\Faithfulness_test.json'))\n",
    "meta_data = json.load(open(r'D:\\Laptop_Projects\\LLMEval-1\\preprocess\\experiments\\data\\meta_data.json'))\n",
    "df = pd.DataFrame(data)\n",
    "fh = FaithfulnessHelper()\n",
    "md = meta_data[\"faithfulness\"][\"ranges\"]\n",
    "ranges = []\n",
    "for range in md:\n",
    "    ranges.append([range[0],range[1]])\n",
    "fe = FaithfulnessEvaluator(ranges) #Pass empty string if you dont have Faithfulness_test.json"
   ]
  },
  {
   "cell_type": "markdown",
   "metadata": {},
   "source": [
    "New Instance example"
   ]
  },
  {
   "cell_type": "code",
   "execution_count": 5,
   "metadata": {},
   "outputs": [
    {
     "data": {
      "text/plain": [
       "(0.6666666666666666, 'good')"
      ]
     },
     "execution_count": 5,
     "metadata": {},
     "output_type": "execute_result"
    }
   ],
   "source": [
    "article_text = 'Polls close at 11 p.m. Eastern time. In the 2022 state primaries, first results were reported 11 minutes later, and the last update of the night was at 6:10 a.m. Eastern time with 48 percent of votes reported.All active registered voters were mailed a ballot, which must be postmarked by Election Day and received by March 12. Early in-person voting was also available.California is one of five states on Tuesday holding primaries for the presidential race as well as its state primary. In state and congressional primaries, candidates from all parties are listed on one ballot, and the top two vote-getters advance to the general election. In the presidential primary, Republican voters were required to be registered with their party to vote for its nominee, but Democrats and unaffiliated voters could participate in the Democratic election.'\n",
    "summ ='In the 2022 California state primaries, polls closed at 11 p.m. Eastern time. First results were reported 11 minutes later, and the last update of the night was at 6:10 a.m. Eastern time with 48 percent of votes reported. California held primaries for both the presidential race and its state primary, using a top-two vote-getter system for state and congressional primaries.'\n",
    "fe.default(article_text,summ)"
   ]
  },
  {
   "cell_type": "markdown",
   "metadata": {},
   "source": [
    "Calculate scores for whole dataset"
   ]
  },
  {
   "cell_type": "code",
   "execution_count": 15,
   "metadata": {},
   "outputs": [
    {
     "name": "stdout",
     "output_type": "stream",
     "text": [
      "0/599\n",
      "score 0.5\n",
      "1/599\n",
      "score 0.8\n",
      "2/599\n",
      "score 0.7777777777777778\n",
      "3/599\n",
      "score 0.6666666666666666\n",
      "4/599\n",
      "score 0.2\n",
      "5/599\n",
      "score 0.75\n",
      "6/599\n",
      "score 0.6\n",
      "7/599\n",
      "score 0.0\n",
      "8/599\n"
     ]
    },
    {
     "ename": "KeyboardInterrupt",
     "evalue": "",
     "output_type": "error",
     "traceback": [
      "\u001b[1;31m---------------------------------------------------------------------------\u001b[0m",
      "\u001b[1;31mKeyboardInterrupt\u001b[0m                         Traceback (most recent call last)",
      "\u001b[1;32m~\\AppData\\Local\\Temp\\ipykernel_5716\\897662230.py\u001b[0m in \u001b[0;36m<module>\u001b[1;34m\u001b[0m\n\u001b[0;32m      3\u001b[0m     \u001b[0marticle\u001b[0m\u001b[1;33m=\u001b[0m\u001b[0mdatum\u001b[0m\u001b[1;33m[\u001b[0m\u001b[1;34m'article_text'\u001b[0m\u001b[1;33m]\u001b[0m\u001b[1;33m\u001b[0m\u001b[1;33m\u001b[0m\u001b[0m\n\u001b[0;32m      4\u001b[0m     \u001b[0mLLM\u001b[0m\u001b[1;33m=\u001b[0m\u001b[0mdatum\u001b[0m\u001b[1;33m[\u001b[0m\u001b[1;34m'text-davinci-002_summary'\u001b[0m\u001b[1;33m]\u001b[0m\u001b[1;33m\u001b[0m\u001b[1;33m\u001b[0m\u001b[0m\n\u001b[1;32m----> 5\u001b[1;33m     \u001b[0mdatum\u001b[0m\u001b[1;33m[\u001b[0m\u001b[1;34m'faithfullness'\u001b[0m\u001b[1;33m]\u001b[0m\u001b[1;33m,\u001b[0m \u001b[0mdatum\u001b[0m\u001b[1;33m[\u001b[0m\u001b[1;34m'faithfullness_binary'\u001b[0m\u001b[1;33m]\u001b[0m \u001b[1;33m=\u001b[0m \u001b[0mfe\u001b[0m\u001b[1;33m.\u001b[0m\u001b[0mdefault\u001b[0m\u001b[1;33m(\u001b[0m\u001b[0marticle\u001b[0m\u001b[1;33m,\u001b[0m\u001b[0mLLM\u001b[0m\u001b[1;33m)\u001b[0m \u001b[1;31m# Remove 'datum['faithfullness_binary']' if you dont have Faithfulness_test.json\u001b[0m\u001b[1;33m\u001b[0m\u001b[1;33m\u001b[0m\u001b[0m\n\u001b[0m\u001b[0;32m      6\u001b[0m     \u001b[0mprint\u001b[0m\u001b[1;33m(\u001b[0m\u001b[1;34m\"score\"\u001b[0m\u001b[1;33m,\u001b[0m\u001b[0mdatum\u001b[0m\u001b[1;33m[\u001b[0m\u001b[1;34m'faithfullness'\u001b[0m\u001b[1;33m]\u001b[0m\u001b[1;33m)\u001b[0m\u001b[1;33m\u001b[0m\u001b[1;33m\u001b[0m\u001b[0m\n\u001b[0;32m      7\u001b[0m     \u001b[1;31m# del datum['full_embedding']\u001b[0m\u001b[1;33m\u001b[0m\u001b[1;33m\u001b[0m\u001b[0m\n",
      "\u001b[1;32md:\\Laptop_Projects\\LLMEval-1\\server\\metrics\\stylistic.py\u001b[0m in \u001b[0;36mdefault\u001b[1;34m(self, original_text, summary)\u001b[0m\n\u001b[0;32m    190\u001b[0m \u001b[1;33m\u001b[0m\u001b[0m\n\u001b[0;32m    191\u001b[0m     \u001b[1;32mdef\u001b[0m \u001b[0mdefault\u001b[0m\u001b[1;33m(\u001b[0m\u001b[0mself\u001b[0m\u001b[1;33m,\u001b[0m \u001b[0moriginal_text\u001b[0m\u001b[1;33m,\u001b[0m \u001b[0msummary\u001b[0m\u001b[1;33m)\u001b[0m\u001b[1;33m:\u001b[0m\u001b[1;33m\u001b[0m\u001b[1;33m\u001b[0m\u001b[0m\n\u001b[1;32m--> 192\u001b[1;33m         \u001b[1;32mreturn\u001b[0m \u001b[0mself\u001b[0m\u001b[1;33m.\u001b[0m\u001b[0mner_overlap\u001b[0m\u001b[1;33m(\u001b[0m\u001b[1;33m[\u001b[0m\u001b[0moriginal_text\u001b[0m\u001b[1;33m]\u001b[0m\u001b[1;33m,\u001b[0m \u001b[1;33m[\u001b[0m\u001b[0msummary\u001b[0m\u001b[1;33m]\u001b[0m\u001b[1;33m)\u001b[0m\u001b[1;33m\u001b[0m\u001b[1;33m\u001b[0m\u001b[0m\n\u001b[0m\u001b[0;32m    193\u001b[0m \u001b[1;33m\u001b[0m\u001b[0m\n\u001b[0;32m    194\u001b[0m     \u001b[1;32mdef\u001b[0m \u001b[0mner_overlap\u001b[0m\u001b[1;33m(\u001b[0m\u001b[0mself\u001b[0m\u001b[1;33m,\u001b[0m \u001b[0msources\u001b[0m\u001b[1;33m,\u001b[0m \u001b[0mgenerateds\u001b[0m\u001b[1;33m)\u001b[0m\u001b[1;33m:\u001b[0m\u001b[1;33m\u001b[0m\u001b[1;33m\u001b[0m\u001b[0m\n",
      "\u001b[1;32md:\\Laptop_Projects\\LLMEval-1\\server\\metrics\\stylistic.py\u001b[0m in \u001b[0;36mner_overlap\u001b[1;34m(self, sources, generateds)\u001b[0m\n\u001b[0;32m    199\u001b[0m         \u001b[1;31m# reduced_source_ents = self.replace_similar_entities(similar_source_ents,source_ents)\u001b[0m\u001b[1;33m\u001b[0m\u001b[1;33m\u001b[0m\u001b[0m\n\u001b[0;32m    200\u001b[0m         \u001b[0mreduced_generated_ents\u001b[0m \u001b[1;33m=\u001b[0m \u001b[0mself\u001b[0m\u001b[1;33m.\u001b[0m\u001b[0mfh\u001b[0m\u001b[1;33m.\u001b[0m\u001b[0mreplace_similar_entities\u001b[0m\u001b[1;33m(\u001b[0m\u001b[0msimilar_generated_ents\u001b[0m\u001b[1;33m,\u001b[0m\u001b[0mgenerated_ents\u001b[0m\u001b[1;33m)\u001b[0m\u001b[1;33m\u001b[0m\u001b[1;33m\u001b[0m\u001b[0m\n\u001b[1;32m--> 201\u001b[1;33m         \u001b[0mmatch_count\u001b[0m\u001b[1;33m,\u001b[0m\u001b[0mtop_source_entities\u001b[0m \u001b[1;33m=\u001b[0m \u001b[0mself\u001b[0m\u001b[1;33m.\u001b[0m\u001b[0mfh\u001b[0m\u001b[1;33m.\u001b[0m\u001b[0mtop_entities_match\u001b[0m\u001b[1;33m(\u001b[0m\u001b[0msource_ents\u001b[0m\u001b[1;33m,\u001b[0m\u001b[0mreduced_generated_ents\u001b[0m\u001b[1;33m,\u001b[0m\u001b[0mstr\u001b[0m\u001b[1;33m(\u001b[0m\u001b[0msources\u001b[0m\u001b[1;33m)\u001b[0m\u001b[1;33m)\u001b[0m\u001b[1;33m\u001b[0m\u001b[1;33m\u001b[0m\u001b[0m\n\u001b[0m\u001b[0;32m    202\u001b[0m         \u001b[1;31m# for source_ent, generated_ent, source in zip(source_ents, generated_ents, sources):\u001b[0m\u001b[1;33m\u001b[0m\u001b[1;33m\u001b[0m\u001b[0m\n\u001b[0;32m    203\u001b[0m         \u001b[1;31m#     overlaps = self.find_overlaps(source_ent, generated_ent, source)\u001b[0m\u001b[1;33m\u001b[0m\u001b[1;33m\u001b[0m\u001b[0m\n",
      "\u001b[1;32md:\\Laptop_Projects\\LLMEval-1\\server\\metrics\\faithfulness_helper.py\u001b[0m in \u001b[0;36mtop_entities_match\u001b[1;34m(self, original_src_ents, generated_entities, article)\u001b[0m\n\u001b[0;32m     19\u001b[0m         \u001b[1;32mfor\u001b[0m \u001b[0ment1\u001b[0m \u001b[1;32min\u001b[0m \u001b[0mentity_frequencies\u001b[0m\u001b[1;33m.\u001b[0m\u001b[0mkeys\u001b[0m\u001b[1;33m(\u001b[0m\u001b[1;33m)\u001b[0m\u001b[1;33m:\u001b[0m\u001b[1;33m\u001b[0m\u001b[1;33m\u001b[0m\u001b[0m\n\u001b[0;32m     20\u001b[0m             \u001b[1;32mfor\u001b[0m \u001b[0ment2\u001b[0m \u001b[1;32min\u001b[0m \u001b[0mentity_frequencies\u001b[0m\u001b[1;33m.\u001b[0m\u001b[0mkeys\u001b[0m\u001b[1;33m(\u001b[0m\u001b[1;33m)\u001b[0m\u001b[1;33m:\u001b[0m\u001b[1;33m\u001b[0m\u001b[1;33m\u001b[0m\u001b[0m\n\u001b[1;32m---> 21\u001b[1;33m                 \u001b[1;32mif\u001b[0m \u001b[0mfuzz\u001b[0m\u001b[1;33m.\u001b[0m\u001b[0mtoken_set_ratio\u001b[0m\u001b[1;33m(\u001b[0m\u001b[0ment1\u001b[0m\u001b[1;33m.\u001b[0m\u001b[0mlower\u001b[0m\u001b[1;33m(\u001b[0m\u001b[1;33m)\u001b[0m\u001b[1;33m,\u001b[0m \u001b[0ment2\u001b[0m\u001b[1;33m.\u001b[0m\u001b[0mlower\u001b[0m\u001b[1;33m(\u001b[0m\u001b[1;33m)\u001b[0m\u001b[1;33m)\u001b[0m \u001b[1;33m>=\u001b[0m\u001b[1;36m70\u001b[0m \u001b[1;32mand\u001b[0m \u001b[0ment1\u001b[0m \u001b[1;33m!=\u001b[0m \u001b[0ment2\u001b[0m\u001b[1;33m:\u001b[0m\u001b[1;33m\u001b[0m\u001b[1;33m\u001b[0m\u001b[0m\n\u001b[0m\u001b[0;32m     22\u001b[0m                     \u001b[0mentity_frequencies\u001b[0m\u001b[1;33m[\u001b[0m\u001b[0ment1\u001b[0m\u001b[1;33m]\u001b[0m\u001b[1;33m+=\u001b[0m\u001b[0mentity_frequencies\u001b[0m\u001b[1;33m[\u001b[0m\u001b[0ment2\u001b[0m\u001b[1;33m]\u001b[0m\u001b[1;33m\u001b[0m\u001b[1;33m\u001b[0m\u001b[0m\n\u001b[0;32m     23\u001b[0m                     \u001b[0mentity_frequencies\u001b[0m\u001b[1;33m[\u001b[0m\u001b[0ment2\u001b[0m\u001b[1;33m]\u001b[0m \u001b[1;33m=\u001b[0m \u001b[1;36m0\u001b[0m\u001b[1;33m\u001b[0m\u001b[1;33m\u001b[0m\u001b[0m\n",
      "\u001b[1;31mKeyboardInterrupt\u001b[0m: "
     ]
    }
   ],
   "source": [
    "for i,datum in enumerate(data):\n",
    "    print('{}/{}'.format(i, len(data)))\n",
    "    article=datum['article_text']\n",
    "    LLM=datum['text-davinci-002_summary']\n",
    "    datum['faithfullness'], datum['faithfullness_binary'] = fe.default(article,LLM) # Remove 'datum['faithfullness_binary']' if you dont have Faithfulness_test.json \n",
    "    print(\"score\",datum['faithfullness'])"
   ]
  },
  {
   "cell_type": "code",
   "execution_count": 7,
   "metadata": {},
   "outputs": [],
   "source": [
    "save_json(data,r'D:\\Laptop_Projects\\LLMEval-1\\preprocess\\experiments\\data\\Faithfulness_binary.json')"
   ]
  }
 ],
 "metadata": {
  "kernelspec": {
   "display_name": "base",
   "language": "python",
   "name": "python3"
  },
  "language_info": {
   "codemirror_mode": {
    "name": "ipython",
    "version": 3
   },
   "file_extension": ".py",
   "mimetype": "text/x-python",
   "name": "python",
   "nbconvert_exporter": "python",
   "pygments_lexer": "ipython3",
   "version": "3.9.13"
  }
 },
 "nbformat": 4,
 "nbformat_minor": 2
}
