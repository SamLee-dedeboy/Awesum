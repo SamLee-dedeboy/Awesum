{
 "cells": [
  {
   "cell_type": "code",
   "execution_count": 1,
   "metadata": {},
   "outputs": [
    {
     "name": "stdout",
     "output_type": "stream",
     "text": [
      "d:\\Laptop_Projects\\LLMEval-1\n"
     ]
    }
   ],
   "source": [
    "%cd d:\\Laptop_Projects\\LLMEval-1"
   ]
  },
  {
   "cell_type": "code",
   "execution_count": 2,
   "metadata": {},
   "outputs": [],
   "source": [
    "from collections import Counter\n",
    "import numpy as np\n",
    "from summac.model_guardrails import NERInaccuracyPenalty\n",
    "import nltk\n",
    "import spacy\n",
    "import json\n",
    "import pandas as pd\n",
    "import string\n",
    "import tfidf_matcher as tm\n",
    "from fuzzywuzzy import fuzz\n",
    "from server.metrics.faithfulness_helper import FaithfulnessHelper,get_quartiles_faithfulness\n",
    "from server.metrics.stylistic import FaithfulnessEvaluator\n",
    "\n",
    "data = json.load(open(r'preprocess\\experiments\\data\\pairwise_evaluation_w_embeddings.json'))"
   ]
  },
  {
   "cell_type": "code",
   "execution_count": 3,
   "metadata": {},
   "outputs": [],
   "source": [
    "def save_json(data, filepath=r'new_data.json'):\n",
    "    with open(filepath, 'w') as fp:\n",
    "        json.dump(data, fp, indent=4)"
   ]
  },
  {
   "cell_type": "markdown",
   "metadata": {},
   "source": [
    "Load data, all class objects and meta data"
   ]
  },
  {
   "cell_type": "code",
   "execution_count": 4,
   "metadata": {},
   "outputs": [],
   "source": [
    "data = json.load(open(r'D:\\Laptop_Projects\\LLMEval-1\\preprocess\\experiments\\data\\Faithfulness_test.json'))\n",
    "df = pd.DataFrame(data)\n",
    "fh = FaithfulnessHelper()\n",
    "ranges = get_quartiles_faithfulness(df)\n",
    "fe = FaithfulnessEvaluator(ranges) #Pass empty string if you dont have Faithfulness_test.json"
   ]
  },
  {
   "cell_type": "markdown",
   "metadata": {},
   "source": [
    "New Instance example"
   ]
  },
  {
   "cell_type": "code",
   "execution_count": 5,
   "metadata": {},
   "outputs": [
    {
     "data": {
      "text/plain": [
       "(0.6666666666666666, 'good')"
      ]
     },
     "execution_count": 5,
     "metadata": {},
     "output_type": "execute_result"
    }
   ],
   "source": [
    "article_text = 'Polls close at 11 p.m. Eastern time. In the 2022 state primaries, first results were reported 11 minutes later, and the last update of the night was at 6:10 a.m. Eastern time with 48 percent of votes reported.All active registered voters were mailed a ballot, which must be postmarked by Election Day and received by March 12. Early in-person voting was also available.California is one of five states on Tuesday holding primaries for the presidential race as well as its state primary. In state and congressional primaries, candidates from all parties are listed on one ballot, and the top two vote-getters advance to the general election. In the presidential primary, Republican voters were required to be registered with their party to vote for its nominee, but Democrats and unaffiliated voters could participate in the Democratic election.'\n",
    "summ ='In the 2022 California state primaries, polls closed at 11 p.m. Eastern time. First results were reported 11 minutes later, and the last update of the night was at 6:10 a.m. Eastern time with 48 percent of votes reported. California held primaries for both the presidential race and its state primary, using a top-two vote-getter system for state and congressional primaries.'\n",
    "fe.default(article_text,summ)"
   ]
  },
  {
   "cell_type": "markdown",
   "metadata": {},
   "source": [
    "Calculate scores for whole dataset"
   ]
  },
  {
   "cell_type": "code",
   "execution_count": 6,
   "metadata": {},
   "outputs": [
    {
     "name": "stdout",
     "output_type": "stream",
     "text": [
      "0/599\n",
      "score 0.5\n",
      "1/599\n",
      "score 0.8\n",
      "2/599\n",
      "score 0.7777777777777778\n",
      "3/599\n",
      "score 0.6666666666666666\n",
      "4/599\n",
      "score 0.2\n",
      "5/599\n",
      "score 0.75\n",
      "6/599\n",
      "score 0.6\n",
      "7/599\n",
      "score 0.0\n",
      "8/599\n",
      "score 0.75\n",
      "9/599\n",
      "score 0.5714285714285714\n",
      "10/599\n",
      "score 0.7777777777777778\n",
      "11/599\n",
      "score 0.8\n",
      "12/599\n",
      "score 0.0\n",
      "13/599\n",
      "score 0.6666666666666666\n",
      "14/599\n",
      "score 0.0\n",
      "15/599\n"
     ]
    }
   ],
   "source": [
    "article_text = []\n",
    "LLM_text = []\n",
    "for i,datum in enumerate(data):\n",
    "    print('{}/{}'.format(i, len(data)))\n",
    "    article=datum['article_text']\n",
    "    LLM=datum['text-davinci-002_summary']\n",
    "    datum['faithfullness'], datum['faithfullness_binary'] = fe.default(article,LLM) # Remove 'datum['faithfullness_binary']' if you dont have Faithfulness_test.json \n",
    "    print(\"score\",datum['faithfullness'])\n",
    "    # del datum['full_embedding']\n",
    "    # del datum['writer_summary_embedding']\n",
    "    # del datum['llm_summary_embedding']"
   ]
  },
  {
   "cell_type": "code",
   "execution_count": 7,
   "metadata": {},
   "outputs": [],
   "source": [
    "save_json(data,r'D:\\Laptop_Projects\\LLMEval-1\\preprocess\\experiments\\data\\Faithfulness_binary.json')"
   ]
  },
  {
   "cell_type": "markdown",
   "metadata": {},
   "source": [
    "Testing code to view quartiles and counts of labels"
   ]
  },
  {
   "cell_type": "code",
   "execution_count": 8,
   "metadata": {},
   "outputs": [],
   "source": [
    "data_faith = json.load(open(r'D:\\Laptop_Projects\\LLMEval-1\\preprocess\\experiments\\data\\Faithfulness_test.json'))\n",
    "df = pd.DataFrame(data)\n",
    "df.to_csv('faithfulness.csv', index = True) "
   ]
  },
  {
   "cell_type": "markdown",
   "metadata": {},
   "source": [
    "View the quartiles"
   ]
  },
  {
   "cell_type": "code",
   "execution_count": 9,
   "metadata": {},
   "outputs": [
    {
     "name": "stdout",
     "output_type": "stream",
     "text": [
      "Q1 0.2\n",
      "Q2 0.4\n",
      "Q3 0.6\n",
      "Range 1: (0.0, 0.2)\n",
      "Range 2: (0.2, 0.4)\n",
      "Range 3: (0.4, 0.6)\n",
      "Range 4: (0.6, 1.0)\n"
     ]
    }
   ],
   "source": [
    "Q1 = np.percentile(df['faithfullness'], 25)\n",
    "Q2 = np.percentile(df['faithfullness'], 50)\n",
    "Q3 = np.percentile(df['faithfullness'], 75)\n",
    "print(\"Q1\", Q1)\n",
    "print(\"Q2\", Q2)\n",
    "print(\"Q3\", Q3)\n",
    "# define ranges, add another range for all quartiles.\n",
    "range1 = (df['faithfullness'].min(), Q1)\n",
    "range2 = (Q1,Q2)\n",
    "range3 = (Q2,Q3)\n",
    "range4 = (Q3, df['faithfullness'].max())\n",
    "\n",
    "print(f\"Range 1: {range1}\")\n",
    "print(f\"Range 2: {range2}\")\n",
    "print(f\"Range 3: {range3}\")\n",
    "print(f\"Range 4: {range4}\")"
   ]
  },
  {
   "cell_type": "markdown",
   "metadata": {},
   "source": [
    "Counts of each label"
   ]
  },
  {
   "cell_type": "code",
   "execution_count": 10,
   "metadata": {},
   "outputs": [
    {
     "name": "stderr",
     "output_type": "stream",
     "text": [
      "C:\\Users\\aryam\\AppData\\Local\\Temp\\ipykernel_13180\\1853716175.py:7: SettingWithCopyWarning: \n",
      "A value is trying to be set on a copy of a slice from a DataFrame\n",
      "\n",
      "See the caveats in the documentation: https://pandas.pydata.org/pandas-docs/stable/user_guide/indexing.html#returning-a-view-versus-a-copy\n",
      "  df['faithfullness'][ind]= 'avg'\n"
     ]
    },
    {
     "data": {
      "text/plain": [
       "bad     169\n",
       "avg     162\n",
       "good    155\n",
       "low     113\n",
       "Name: faithfullness, dtype: int64"
      ]
     },
     "execution_count": 10,
     "metadata": {},
     "output_type": "execute_result"
    }
   ],
   "source": [
    "for ind in df.index:\n",
    "    if df['faithfullness'][ind] <= Q1:\n",
    "        df['faithfullness'][ind]= 'bad'\n",
    "    elif Q1 < df['faithfullness'][ind] < Q2:\n",
    "        df['faithfullness'][ind]= 'low'\n",
    "    elif Q2 <= df['faithfullness'][ind] < Q3:\n",
    "        df['faithfullness'][ind]= 'avg'\n",
    "    else:\n",
    "        df['faithfullness'][ind]= 'good'\n",
    "df['faithfullness'].value_counts()"
   ]
  }
 ],
 "metadata": {
  "kernelspec": {
   "display_name": "base",
   "language": "python",
   "name": "python3"
  },
  "language_info": {
   "codemirror_mode": {
    "name": "ipython",
    "version": 3
   },
   "file_extension": ".py",
   "mimetype": "text/x-python",
   "name": "python",
   "nbconvert_exporter": "python",
   "pygments_lexer": "ipython3",
   "version": "3.9.13"
  }
 },
 "nbformat": 4,
 "nbformat_minor": 2
}
