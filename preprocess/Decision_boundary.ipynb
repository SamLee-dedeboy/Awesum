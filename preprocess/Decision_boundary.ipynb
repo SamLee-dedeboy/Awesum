{
 "cells": [
  {
   "cell_type": "code",
   "execution_count": 3,
   "metadata": {},
   "outputs": [],
   "source": [
    "from stylistic import StyleEvaluator\n",
    "import pandas as pd\n",
    "import json\n",
    "from sklearn.decomposition import PCA\n",
    "import sklearn\n",
    "from sklearn.linear_model import LogisticRegression, LinearRegression\n",
    "from sklearn.model_selection import train_test_split\n",
    "\n",
    "# Original dataset if you dont have PCA data\n",
    "data = json.load(open(r'preprocess\\experiments\\data\\pairwise_evaluation_w_embeddings.json'))\n",
    "df = pd.DataFrame(data)"
   ]
  },
  {
   "cell_type": "markdown",
   "metadata": {},
   "source": [
    "Logistic Regression Line function"
   ]
  },
  {
   "cell_type": "code",
   "execution_count": 5,
   "metadata": {},
   "outputs": [],
   "source": [
    "def logistic_regression_line(x,y):\n",
    "    model = LogisticRegression()\n",
    "    X_train, X_test, Y_train, Y_test = train_test_split(x, y, test_size=0.2, random_state=42)\n",
    "    model.fit(X_train,Y_train)\n",
    "    w1,w2 = model.coef_.T\n",
    "    intercept = model.intercept_[0]\n",
    "    c = -intercept/w2\n",
    "    m = -w1/w2\n",
    "    return c,m"
   ]
  },
  {
   "cell_type": "markdown",
   "metadata": {},
   "source": [
    "Run if you dont have stylistic metrics data"
   ]
  },
  {
   "cell_type": "code",
   "execution_count": null,
   "metadata": {},
   "outputs": [],
   "source": [
    "for i,datum in enumerate(data):\n",
    "    print('{}/{}'.format(i, len(data)))\n",
    "    scorer =StyleEvaluator()\n",
    "    style_scores = scorer.default(datum['article_text'],datum['text-davinci-002_summary'])\n",
    "    datum['readability'] = style_scores['readability']\n",
    "    datum['formality'] = style_scores['formality']\n",
    "    datum['sentiment'] = style_scores['sentiment']\n",
    "    datum['faithfulness'] = style_scores['faithfulness']\n",
    "    datum['length'] = style_scores['length']\n"
   ]
  },
  {
   "cell_type": "markdown",
   "metadata": {},
   "source": [
    "Encode readability score below 0.5 as not-readable and above as readable"
   ]
  },
  {
   "cell_type": "code",
   "execution_count": 8,
   "metadata": {},
   "outputs": [],
   "source": [
    "df = pd.DataFrame(data)\n",
    "for index,datum in df.iterrows():\n",
    "    if datum['readability']>=50.0:\n",
    "        df.at[index,'readability']=1\n",
    "    else:\n",
    "        df.at[index,'readability']=0"
   ]
  },
  {
   "cell_type": "markdown",
   "metadata": {},
   "source": [
    "X,Y for PCA "
   ]
  },
  {
   "cell_type": "code",
   "execution_count": 9,
   "metadata": {},
   "outputs": [],
   "source": [
    "X = df.drop(columns=['overall_writer_better','full_embedding','writer_summary_embedding','llm_summary_embedding','informative_writer_better','text-davinci-002_summary','writer_summary','article_text','evaluator_id','writer_id','article_id','readability'])\n",
    "y = df['readability']"
   ]
  },
  {
   "cell_type": "markdown",
   "metadata": {},
   "source": [
    "Standardize feature values"
   ]
  },
  {
   "cell_type": "code",
   "execution_count": 10,
   "metadata": {},
   "outputs": [],
   "source": [
    "X_scaled = X.copy()  \n",
    "for column in X_scaled.columns: \n",
    "    X_scaled[column] = (X_scaled[column] - X_scaled[column].mean()) / X_scaled[column].std()   "
   ]
  },
  {
   "cell_type": "markdown",
   "metadata": {},
   "source": [
    "PCA"
   ]
  },
  {
   "cell_type": "code",
   "execution_count": 11,
   "metadata": {},
   "outputs": [],
   "source": [
    "pca = PCA(n_components=2)\n",
    "X_pca = pca.fit_transform(X_scaled)"
   ]
  },
  {
   "cell_type": "code",
   "execution_count": 12,
   "metadata": {},
   "outputs": [
    {
     "name": "stdout",
     "output_type": "stream",
     "text": [
      "[-1.50590381] [0.21562842]\n"
     ]
    }
   ],
   "source": [
    "c,m = logistic_regression_line(X_pca,y)\n",
    "print(c,m)"
   ]
  }
 ],
 "metadata": {
  "kernelspec": {
   "display_name": "base",
   "language": "python",
   "name": "python3"
  },
  "language_info": {
   "codemirror_mode": {
    "name": "ipython",
    "version": 3
   },
   "file_extension": ".py",
   "mimetype": "text/x-python",
   "name": "python",
   "nbconvert_exporter": "python",
   "pygments_lexer": "ipython3",
   "version": "3.9.13"
  }
 },
 "nbformat": 4,
 "nbformat_minor": 2
}
