{
 "cells": [
  {
   "cell_type": "code",
   "execution_count": 1,
   "metadata": {},
   "outputs": [],
   "source": [
    "import openai\n",
    "import json\n",
    "import numpy as np\n",
    "from numpy.linalg import norm\n",
    "import requests\n",
    "import csv\n",
    "import tiktoken\n",
    "from pprint import pprint\n",
    "api_key = open(\"api_key\").read()\n",
    "openai.api_key = api_key\n",
    "def get_embedding(text, model=\"text-embedding-ada-002\"):\n",
    "   encoder = tiktoken.encoding_for_model(model)\n",
    "   token_length = len(encoder.encode(text))\n",
    "   while token_length > 8191:\n",
    "      text = text[:-100]\n",
    "      token_length = len(encoder.encode(text))\n",
    "      print(token_length)\n",
    "   # text = text.replace(\"\\n\", \" \")\n",
    "   # return openai.Embedding.create(input = [text], model=model)['data'][0]['embedding']\n",
    "   url = 'https://api.openai.com/v1/embeddings'\n",
    "   headers = {\n",
    "      'Content-Type': 'application/json',\n",
    "      'Authorization': \"Bearer {}\".format(api_key)\n",
    "   }\n",
    "   data = {\n",
    "      \"input\": text,\n",
    "      \"model\": model\n",
    "   }\n",
    "   res = requests.post(url, headers=headers, json=data)\n",
    "   res = res.json()\n",
    "   return res['data'][0]['embedding']\n",
    "\n",
    "def cos_sim(a, b):\n",
    "   return np.dot(a, b)/(norm(a)*norm(b))\n",
    "\n",
    "def save_json(data, filepath=r'new_data.json'):\n",
    "   with open(filepath, 'w') as fp:\n",
    "      json.dump(data, fp, indent=4)"
   ]
  },
  {
   "cell_type": "code",
   "execution_count": 1,
   "metadata": {},
   "outputs": [],
   "source": [
    "import json\n",
    "from collections import defaultdict\n",
    "pairwise_evaluation = json.load(open('pairwise_evaluation_w_embeddings.json'))\n",
    "pairwise_evaluation_dict = defaultdict(list)\n",
    "for item in pairwise_evaluation:\n",
    "    pairwise_evaluation_dict[item['article_id']].append(item)"
   ]
  },
  {
   "cell_type": "code",
   "execution_count": 4,
   "metadata": {},
   "outputs": [],
   "source": [
    "from pprint import pprint\n",
    "writer_samples = {}\n",
    "for article_id, data in pairwise_evaluation_dict.items():\n",
    "    writer_samples[article_id] = data[0]\n",
    "save_json(writer_samples, 'pairwise_samples.json')\n"
   ]
  },
  {
   "cell_type": "code",
   "execution_count": 2,
   "metadata": {},
   "outputs": [],
   "source": [
    "from sklearn.cluster import KMeans\n",
    "from sklearn.metrics import pairwise_distances_argmin_min\n",
    "from scipy import spatial\n",
    "\n",
    "def estimate_transformation(X, Y):\n",
    "    X = np.array(X)\n",
    "    Y = np.array(Y)\n",
    "    if np.linalg.matrix_rank(X) == X.shape[0]:\n",
    "        # X is invertible, so solve for A\n",
    "        A = Y @ np.linalg.inv(X)\n",
    "        print(\"Matrix A:\", A)\n",
    "    else:\n",
    "        X = X.reshape((-1, X.shape[-1]))\n",
    "        Y = Y.reshape((-1, Y.shape[-1]))\n",
    "        A, residuals, _, _ = np.linalg.lstsq(X, Y, rcond=None)\n",
    "        result = np.allclose(np.dot(X, A).T, Y.T)\n",
    "        return A, residuals\n",
    "\n",
    "def k_means(X, k):\n",
    "    X = np.array(X)\n",
    "    # Apply k-means clustering\n",
    "    kmeans = KMeans(n_clusters=k, random_state=42)\n",
    "    kmeans.fit(X)\n",
    "\n",
    "    # Get the cluster centers (representative matrices)\n",
    "    cluster_centers = kmeans.cluster_centers_\n",
    "\n",
    "    # Assign each matrix to its nearest cluster\n",
    "    labels, _ = pairwise_distances_argmin_min(X, cluster_centers)\n",
    "\n",
    "    # Print the cluster assignments for each matrix\n",
    "    for i, label in enumerate(labels):\n",
    "        print(f\"Matrix {i + 1} is assigned to Cluster {label + 1}\")\n",
    "def cos_distance_matrix(X):\n",
    "    D = np.zeros((X.shape[0], X.shape[0]))\n",
    "    for i in range(X.shape[0]):\n",
    "        for j in range(X.shape[0]):\n",
    "            print(i, j, X.shape[0])\n",
    "            D[i][j] = spatial.distance.cosine(X[i], X[j])\n",
    "    return D\n"
   ]
  },
  {
   "cell_type": "code",
   "execution_count": 3,
   "metadata": {},
   "outputs": [
    {
     "name": "stdout",
     "output_type": "stream",
     "text": [
      "estimation done\n"
     ]
    }
   ],
   "source": [
    "pairwise_evaluation = json.load(open('pairwise_evaluation_w_embeddings.json'))\n",
    "transformations = []\n",
    "\n",
    "for sample in pairwise_evaluation:\n",
    "    # A1, residuals = estimate_transformation(sample['full_embedding'], sample['llm_summary_embedding'])\n",
    "    # transformations.append(A1)\n",
    "    A2, residuals = estimate_transformation(sample['full_embedding'], sample['writer_summary_embedding'])\n",
    "    transformations.append(A2.flatten())\n",
    "print(\"estimation done\")\n",
    "X = np.array(transformations)\n",
    "D = cos_distance_matrix(X)\n",
    "print(X.shape, D.shape)\n",
    "# k_means(X, 5)"
   ]
  }
 ],
 "metadata": {
  "kernelspec": {
   "display_name": "LLMEval",
   "language": "python",
   "name": "python3"
  },
  "language_info": {
   "codemirror_mode": {
    "name": "ipython",
    "version": 3
   },
   "file_extension": ".py",
   "mimetype": "text/x-python",
   "name": "python",
   "nbconvert_exporter": "python",
   "pygments_lexer": "ipython3",
   "version": "3.11.5"
  }
 },
 "nbformat": 4,
 "nbformat_minor": 2
}
