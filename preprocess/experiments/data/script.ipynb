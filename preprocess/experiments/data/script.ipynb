{
 "cells": [
  {
   "cell_type": "code",
   "execution_count": 3,
   "metadata": {},
   "outputs": [],
   "source": [
    "import openai\n",
    "import json\n",
    "import numpy as np\n",
    "from numpy.linalg import norm\n",
    "import requests\n",
    "import csv\n",
    "import tiktoken\n",
    "from pprint import pprint\n",
    "api_key = open(\"api_key\").read()\n",
    "openai.api_key = api_key\n",
    "def get_embedding(text, model=\"text-embedding-ada-002\"):\n",
    "   encoder = tiktoken.encoding_for_model(model)\n",
    "   token_length = len(encoder.encode(text))\n",
    "   while token_length > 8191:\n",
    "      text = text[:-100]\n",
    "      token_length = len(encoder.encode(text))\n",
    "      print(token_length)\n",
    "   # text = text.replace(\"\\n\", \" \")\n",
    "   # return openai.Embedding.create(input = [text], model=model)['data'][0]['embedding']\n",
    "   url = 'https://api.openai.com/v1/embeddings'\n",
    "   headers = {\n",
    "      'Content-Type': 'application/json',\n",
    "      'Authorization': \"Bearer {}\".format(api_key)\n",
    "   }\n",
    "   data = {\n",
    "      \"input\": text,\n",
    "      \"model\": model\n",
    "   }\n",
    "   res = requests.post(url, headers=headers, json=data)\n",
    "   res = res.json()\n",
    "   return res['data'][0]['embedding']\n",
    "\n",
    "def cos_sim(a, b):\n",
    "   return np.dot(a, b)/(norm(a)*norm(b))\n",
    "\n",
    "def save_json(data, filepath=r'new_data.json'):\n",
    "   with open(filepath, 'w') as fp:\n",
    "      json.dump(data, fp, indent=4)"
   ]
  },
  {
   "cell_type": "code",
   "execution_count": 1,
   "metadata": {},
   "outputs": [],
   "source": [
    "import json\n",
    "from collections import defaultdict\n",
    "pairwise_evaluation = json.load(open('pairwise_evaluation_w_embeddings.json'))\n",
    "pairwise_evaluation_dict = defaultdict(list)\n",
    "for item in pairwise_evaluation:\n",
    "    pairwise_evaluation_dict[item['article_id']].append(item)"
   ]
  },
  {
   "cell_type": "code",
   "execution_count": 4,
   "metadata": {},
   "outputs": [],
   "source": [
    "from pprint import pprint\n",
    "writer_samples = {}\n",
    "for article_id, data in pairwise_evaluation_dict.items():\n",
    "    writer_samples[article_id] = data[0]\n",
    "save_json(writer_samples, 'pairwise_samples.json')\n"
   ]
  },
  {
   "cell_type": "code",
   "execution_count": 5,
   "metadata": {},
   "outputs": [
    {
     "name": "stdout",
     "output_type": "stream",
     "text": [
      "76\n"
     ]
    }
   ],
   "source": [
    "print(len(writer_samples))"
   ]
  }
 ],
 "metadata": {
  "kernelspec": {
   "display_name": "LLMEval",
   "language": "python",
   "name": "python3"
  },
  "language_info": {
   "codemirror_mode": {
    "name": "ipython",
    "version": 3
   },
   "file_extension": ".py",
   "mimetype": "text/x-python",
   "name": "python",
   "nbconvert_exporter": "python",
   "pygments_lexer": "ipython3",
   "version": "3.12.0"
  }
 },
 "nbformat": 4,
 "nbformat_minor": 2
}
