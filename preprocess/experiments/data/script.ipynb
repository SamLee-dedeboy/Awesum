{
 "cells": [
  {
   "cell_type": "code",
   "execution_count": 1,
   "metadata": {},
   "outputs": [],
   "source": [
    "import openai\n",
    "import json\n",
    "import numpy as np\n",
    "from numpy.linalg import norm\n",
    "import requests\n",
    "import csv\n",
    "import tiktoken\n",
    "from pprint import pprint\n",
    "from collections import defaultdict\n",
    "api_key = open(\"api_key\").read()\n",
    "openai.api_key = api_key\n",
    "def get_embedding(text, model=\"text-embedding-ada-002\"):\n",
    "   encoder = tiktoken.encoding_for_model(model)\n",
    "   token_length = len(encoder.encode(text))\n",
    "   while token_length > 8191:\n",
    "      text = text[:-100]\n",
    "      token_length = len(encoder.encode(text))\n",
    "      print(token_length)\n",
    "   # text = text.replace(\"\\n\", \" \")\n",
    "   # return openai.Embedding.create(input = [text], model=model)['data'][0]['embedding']\n",
    "   url = 'https://api.openai.com/v1/embeddings'\n",
    "   headers = {\n",
    "      'Content-Type': 'application/json',\n",
    "      'Authorization': \"Bearer {}\".format(api_key)\n",
    "   }\n",
    "   data = {\n",
    "      \"input\": text,\n",
    "      \"model\": model\n",
    "   }\n",
    "   res = requests.post(url, headers=headers, json=data)\n",
    "   res = res.json()\n",
    "   return res['data'][0]['embedding']\n",
    "\n",
    "def cos_sim(a, b):\n",
    "   return np.dot(a, b)/(norm(a)*norm(b))\n",
    "\n",
    "def save_json(data, filepath=r'new_data.json'):\n",
    "   with open(filepath, 'w') as fp:\n",
    "      json.dump(data, fp, indent=4)"
   ]
  },
  {
   "cell_type": "code",
   "execution_count": null,
   "metadata": {},
   "outputs": [],
   "source": [
    "import json\n",
    "from collections import defaultdict\n",
    "pairwise_evaluation = json.load(open('pairwise_evaluation_w_embeddings.json'))\n",
    "pairwise_evaluation_dict = defaultdict(list)\n",
    "for item in pairwise_evaluation:\n",
    "    pairwise_evaluation_dict[item['article_id']].append(item)"
   ]
  },
  {
   "cell_type": "code",
   "execution_count": null,
   "metadata": {},
   "outputs": [],
   "source": [
    "from pprint import pprint\n",
    "writer_samples = {}\n",
    "for article_id, data in pairwise_evaluation_dict.items():\n",
    "    writer_samples[article_id] = data[0]\n",
    "save_json(writer_samples, 'pairwise_samples.json')\n"
   ]
  },
  {
   "cell_type": "code",
   "execution_count": 1,
   "metadata": {},
   "outputs": [],
   "source": [
    "from sklearn.cluster import KMeans\n",
    "from sklearn.metrics import pairwise_distances_argmin_min\n",
    "from scipy import spatial\n",
    "import math \n",
    "from sklearn.cluster import OPTICS\n",
    "def compute_transformation(X, Y):\n",
    "    X = np.array(X)\n",
    "    Y = np.array(Y)\n",
    "    # A = X / Y # Does not work\n",
    "    # A = np.tanh(X) / Y # Does not work\n",
    "    # X = np.array([1/(1+math.exp(-x)) for x in X]) # Does not work\n",
    "    # X = np.array([math.exp(-x**2) for x in X]) # Does not work\n",
    "    \n",
    "    # A = X / Y \n",
    "    A = X - Y\n",
    "    # print((np.min(X), np.max(X)), (np.min(Y), np.max(Y)))\n",
    "    \n",
    "    assert(X.shape == A.shape)\n",
    "    return A\n",
    "\n",
    "def _compute_transformation(X, Y):\n",
    "    X = np.array(X)\n",
    "    Y = np.array(Y)\n",
    "    A = np.concatenate((X, Y))\n",
    "    print(A.shape)\n",
    "    return A\n",
    "\n",
    "def k_means(X, k):\n",
    "    X = np.array(X)\n",
    "    # Apply k-means clustering\n",
    "    kmeans = KMeans(n_clusters=k, random_state=42)\n",
    "    kmeans.fit(X)\n",
    "\n",
    "    # Get the cluster centers (representative matrices)\n",
    "    cluster_centers = kmeans.cluster_centers_\n",
    "\n",
    "    # Assign each matrix to its nearest cluster\n",
    "    labels, _ = pairwise_distances_argmin_min(X, cluster_centers)\n",
    "\n",
    "    # Print the cluster assignments for each matrix\n",
    "    # for i, label in enumerate(labels):\n",
    "    #     print(f\"Matrix {i + 1} is assigned to Cluster {label + 1}\")\n",
    "    return labels\n",
    "\n",
    "def optics(X):\n",
    "    clustering = OPTICS(min_samples=2).fit(X)\n",
    "    return clustering.labels_, clustering.cluster_hierarchy_\n",
    "\n",
    "def cos_distance_matrix(X):\n",
    "    D = np.zeros((X.shape[0], X.shape[0]))\n",
    "    for i in range(X.shape[0]):\n",
    "        for j in range(X.shape[0]):\n",
    "            print(i, j, X.shape[0])\n",
    "            D[i][j] = spatial.distance.cosine(X[i], X[j])\n",
    "    return D\n",
    "\n",
    "def labels_to_clusters(labels):\n",
    "    clusters = defaultdict(list)\n",
    "    for index, label in enumerate(labels):\n",
    "        clusters[label].append(index)\n",
    "    return clusters"
   ]
  },
  {
   "cell_type": "code",
   "execution_count": 5,
   "metadata": {},
   "outputs": [],
   "source": [
    "pairwise_evaluation = json.load(open('pairwise_samples.json'))\n",
    "better_summary_embeddings = [sample['writer_summary_embedding'] if sample['overall_writer_better'] else sample['llm_summary_embedding'] for sample in pairwise_evaluation.values() ]\n",
    "worse_summary_embeddings = [sample['writer_summary_embedding'] if not sample['overall_writer_better'] else sample['llm_summary_embedding'] for sample in pairwise_evaluation.values() ]\n",
    "better_transformations = []\n",
    "worse_transformations = []\n",
    "# for sample in pairwise_evaluation.values():\n",
    "    # A1, residuals = estimate_transformation(sample['full_embedding'], sample['llm_summary_embedding'])\n",
    "    # transformations.append(A1)\n",
    "    # A2 = _compute_transformation(sample['full_embedding'], sample['writer_summary_embedding'])\n",
    "    # transformations.append(A2)\n",
    "# print(len(transformations))"
   ]
  },
  {
   "cell_type": "code",
   "execution_count": null,
   "metadata": {},
   "outputs": [],
   "source": [
    "pairwise_evaluation = json.load(open('pairwise_samples.json'))\n",
    "better_summary_embeddings = [(sample['full_embedding'], sample['writer_summary_embedding']) if sample['overall_writer_better'] else (sample['full_embedding'], sample['llm_summary_embedding']) for sample in pairwise_evaluation.values() ]\n",
    "worse_summary_embeddings = [(sample['full_embedding'], sample['writer_summary_embedding']) if not sample['overall_writer_better'] else (sample['full_embedding'], sample['llm_summary_embedding']) for sample in pairwise_evaluation.values() ]\n",
    "better_transformations = [compute_transformation(full_embedding, summary_embedding) for full_embedding, summary_embedding in better_summary_embeddings]\n",
    "worse_transformations = [compute_transformation(full_embedding, summary_embedding) for full_embedding, summary_embedding in worse_summary_embeddings]\n",
    "better_transformation_kmeans = k_means(np.array(better_transformations), 5)\n",
    "worse_transformation_kmeans = k_means(np.array(worse_transformations), 5)\n",
    "better_transformation_clusters = labels_to_clusters(better_transformation_kmeans)\n",
    "worse_transformation_clusters = labels_to_clusters(worse_transformation_kmeans)"
   ]
  },
  {
   "cell_type": "code",
   "execution_count": null,
   "metadata": {},
   "outputs": [],
   "source": [
    "transformation_kmeans = k_means(np.array(transformations), 5)\n",
    "print(\"transformation kmeans done\")\n",
    "full_kmeans = k_means(np.array([sample['full_embedding'] for sample in pairwise_evaluation.values()]), 5)\n",
    "print(\"full kmeans done\")\n",
    "writer_summary_kmeans = k_means(np.array([sample['writer_summary_embedding'] for sample in pairwise_evaluation.values()]), 5)\n",
    "print(\"writer summary kmeans done\")"
   ]
  },
  {
   "cell_type": "code",
   "execution_count": null,
   "metadata": {},
   "outputs": [],
   "source": [
    "transformation_clusters = labels_to_clusters(transformation_kmeans)\n",
    "full_clusters = labels_to_clusters(full_kmeans)\n",
    "writer_summary_clusters = labels_to_clusters(writer_summary_kmeans)"
   ]
  },
  {
   "cell_type": "code",
   "execution_count": null,
   "metadata": {},
   "outputs": [],
   "source": [
    "print(list(pairwise_evaluation.values())[4]['writer_summary'])\n",
    "print(list(pairwise_evaluation.values())[32]['writer_summary'])\n",
    "print(list(pairwise_evaluation.values())[35]['writer_summary'])\n",
    "print(list(pairwise_evaluation.values())[46]['writer_summary'])\n",
    "print(list(pairwise_evaluation.values())[54]['writer_summary'])\n",
    "print(list(pairwise_evaluation.values())[59]['writer_summary'])\n",
    "print(list(pairwise_evaluation.values())[65]['writer_summary'])"
   ]
  },
  {
   "cell_type": "code",
   "execution_count": null,
   "metadata": {},
   "outputs": [],
   "source": [
    "print(list(pairwise_evaluation.values())[16]['writer_summary'])\n",
    "print(list(pairwise_evaluation.values())[28]['writer_summary'])\n",
    "print(list(pairwise_evaluation.values())[29]['writer_summary'])\n",
    "print(list(pairwise_evaluation.values())[43]['writer_summary'])\n",
    "print(list(pairwise_evaluation.values())[45]['writer_summary'])\n",
    "print(list(pairwise_evaluation.values())[56]['writer_summary'])\n",
    "print(\"==================\")\n",
    "print(list(pairwise_evaluation.values())[2]['writer_summary'])\n",
    "print(list(pairwise_evaluation.values())[12]['writer_summary'])\n",
    "print(list(pairwise_evaluation.values())[13]['writer_summary'])\n",
    "print(list(pairwise_evaluation.values())[20]['writer_summary'])"
   ]
  },
  {
   "cell_type": "code",
   "execution_count": 12,
   "metadata": {},
   "outputs": [
    {
     "name": "stdout",
     "output_type": "stream",
     "text": [
      "20\n",
      "==================\n",
      "25\n",
      "==================\n",
      "14\n",
      "==================\n",
      "6\n",
      "==================\n",
      "11\n",
      "==================\n"
     ]
    }
   ],
   "source": [
    "for cluster_indicies in better_summary_clusters.values():\n",
    "    summaries = [list(pairwise_evaluation.values())[index]['writer_summary'] for index in cluster_indicies]\n",
    "    print(len(summaries))\n",
    "    print(\"==================\")"
   ]
  },
  {
   "cell_type": "code",
   "execution_count": null,
   "metadata": {},
   "outputs": [],
   "source": []
  }
 ],
 "metadata": {
  "kernelspec": {
   "display_name": "LLMEval",
   "language": "python",
   "name": "python3"
  },
  "language_info": {
   "codemirror_mode": {
    "name": "ipython",
    "version": 3
   },
   "file_extension": ".py",
   "mimetype": "text/x-python",
   "name": "python",
   "nbconvert_exporter": "python",
   "pygments_lexer": "ipython3",
   "version": "3.11.5"
  }
 },
 "nbformat": 4,
 "nbformat_minor": 2
}
